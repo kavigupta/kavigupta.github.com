{
 "cells": [
  {
   "cell_type": "code",
   "execution_count": 1,
   "metadata": {},
   "outputs": [],
   "source": [
    "import numpy as np\n",
    "import matplotlib.pyplot as plt"
   ]
  },
  {
   "cell_type": "code",
   "execution_count": 2,
   "metadata": {},
   "outputs": [],
   "source": [
    "%matplotlib inline"
   ]
  },
  {
   "cell_type": "code",
   "execution_count": 251,
   "metadata": {},
   "outputs": [],
   "source": [
    "def overlapping_curves(data1, data2, label1, label2, path=None):\n",
    "    all_data = [data1, data2]\n",
    "    bins = np.linspace(np.min(all_data), np.max(all_data), len(data) // 10)\n",
    "    plt.hist(data1, label=label1, color=\"red\", alpha=0.5, bins=bins)\n",
    "    plt.hist(data2, label=label2, color=\"blue\", alpha=0.5, bins=bins)\n",
    "    plt.xlabel(\"Effect Size\")\n",
    "    plt.ylabel(\"Frequency\")\n",
    "    plt.legend()\n",
    "    if path is None:\n",
    "        plt.show()\n",
    "    else:\n",
    "        plt.savefig(path)\n",
    "def resample(samp):\n",
    "    return np.random.choice(samp, samp.size)\n",
    "def bootstrap_diff(samp1, samp2):\n",
    "    return np.mean(resample(samp1)) - np.mean(resample(samp2))\n",
    "def two_sided_p_value(one_side):\n",
    "    if one_side > 0.5:\n",
    "        one_side = 1 - one_side\n",
    "    return one_side * 2"
   ]
  },
  {
   "cell_type": "code",
   "execution_count": 269,
   "metadata": {},
   "outputs": [],
   "source": [
    "np.random.seed(0)"
   ]
  },
  {
   "cell_type": "code",
   "execution_count": 270,
   "metadata": {},
   "outputs": [],
   "source": [
    "new_drug = np.random.randn(500) + 2.05\n",
    "placebo = np.random.randn(500) + 2"
   ]
  },
  {
   "cell_type": "code",
   "execution_count": 271,
   "metadata": {},
   "outputs": [
    {
     "data": {
      "image/png": "[encoded data removed]",
      "text/plain": [
       "<matplotlib.figure.Figure at 0x7f7837d5be48>"
      ]
     },
     "metadata": {},
     "output_type": "display_data"
    }
   ],
   "source": [
    "overlapping_curves(new_drug, placebo, \"new drug\", \"placebo\", path='drug_vs_placebo.png')"
   ]
  },
  {
   "cell_type": "code",
   "execution_count": 290,
   "metadata": {},
   "outputs": [
    {
     "data": {
      "text/plain": [
       "0.0"
      ]
     },
     "execution_count": 290,
     "metadata": {},
     "output_type": "execute_result"
    }
   ],
   "source": [
    "np.random.seed(0)\n",
    "boot_diffs = np.array([bootstrap_diff(new_drug, placebo) for _ in range(10000)])\n",
    "two_sided_p_value(np.mean(boot_diffs < 0))"
   ]
  },
  {
   "cell_type": "code",
   "execution_count": 297,
   "metadata": {},
   "outputs": [],
   "source": [
    "np.random.seed(0)\n",
    "new_drug = np.random.randn(10000) + 2.05\n",
    "placebo = np.random.randn(10000) + 2"
   ]
  },
  {
   "cell_type": "code",
   "execution_count": 298,
   "metadata": {},
   "outputs": [
    {
     "data": {
      "image/png": "[encoded data removed]",
      "text/plain": [
       "<matplotlib.figure.Figure at 0x7f7837603c50>"
      ]
     },
     "metadata": {},
     "output_type": "display_data"
    }
   ],
   "source": [
    "overlapping_curves(new_drug, placebo, \"new drug\", \"placebo\", path='drug_vs_placebo_large_n.png')"
   ]
  },
  {
   "cell_type": "code",
   "execution_count": 299,
   "metadata": {},
   "outputs": [
    {
     "data": {
      "text/plain": [
       "0.13966000000000001"
      ]
     },
     "execution_count": 299,
     "metadata": {},
     "output_type": "execute_result"
    }
   ],
   "source": [
    "np.random.seed(0)\n",
    "boot_diffs = np.array([bootstrap_diff(new_drug, placebo) for _ in range(100000)])\n",
    "two_sided_p_value(np.mean(boot_diffs < 0))"
   ]
  },
  {
   "cell_type": "code",
   "execution_count": 300,
   "metadata": {},
   "outputs": [
    {
     "data": {
      "text/plain": [
       "(array([  1.70000000e+01,   3.54000000e+02,   3.09800000e+03,\n",
       "          1.41880000e+04,   3.02140000e+04,   3.15220000e+04,\n",
       "          1.60670000e+04,   4.04400000e+03,   4.63000000e+02,\n",
       "          3.30000000e+01]),\n",
       " array([-0.04127533, -0.02906073, -0.01684612, -0.00463152,  0.00758308,\n",
       "         0.01979769,  0.03201229,  0.0442269 ,  0.0564415 ,  0.06865611,\n",
       "         0.08087071]),\n",
       " <a list of 10 Patch objects>)"
      ]
     },
     "execution_count": 300,
     "metadata": {},
     "output_type": "execute_result"
    },
    {
     "data": {
      "image/png": "[encoded data removed]",
      "text/plain": [
       "<matplotlib.figure.Figure at 0x7f783755dda0>"
      ]
     },
     "metadata": {},
     "output_type": "display_data"
    }
   ],
   "source": [
    "plt.hist(boot_diffs)"
   ]
  },
  {
   "cell_type": "code",
   "execution_count": null,
   "metadata": {},
   "outputs": [],
   "source": []
  }
 ],
 "metadata": {
  "kernelspec": {
   "display_name": "Python [default]",
   "language": "python",
   "name": "python3"
  },
  "language_info": {
   "codemirror_mode": {
    "name": "ipython",
    "version": 3
   },
   "file_extension": ".py",
   "mimetype": "text/x-python",
   "name": "python",
   "nbconvert_exporter": "python",
   "pygments_lexer": "ipython3",
   "version": "3.5.4"
  }
 },
 "nbformat": 4,
 "nbformat_minor": 2
}
